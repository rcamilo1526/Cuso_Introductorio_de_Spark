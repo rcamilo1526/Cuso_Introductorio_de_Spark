{
 "cells": [
  {
   "cell_type": "markdown",
   "metadata": {},
   "source": [
    "# RDDs"
   ]
  },
  {
   "cell_type": "markdown",
   "metadata": {},
   "source": [
    "# Creamos un contexo para crear RDDs"
   ]
  },
  {
   "cell_type": "code",
   "execution_count": 1,
   "metadata": {},
   "outputs": [],
   "source": [
    "import findspark\n",
    "findspark.init()\n",
    "from pyspark import SparkContext\n",
    "sc = SparkContext(master = \"local\", appName = \"Transformaciones sobre un RDD\") "
   ]
  },
  {
   "cell_type": "code",
   "execution_count": 2,
   "metadata": {},
   "outputs": [
    {
     "data": {
      "text/html": [
       "\n",
       "        <div>\n",
       "            <p><b>SparkContext</b></p>\n",
       "\n",
       "            <p><a href=\"http://192.168.0.16:4040\">Spark UI</a></p>\n",
       "\n",
       "            <dl>\n",
       "              <dt>Version</dt>\n",
       "                <dd><code>v2.4.7</code></dd>\n",
       "              <dt>Master</dt>\n",
       "                <dd><code>local</code></dd>\n",
       "              <dt>AppName</dt>\n",
       "                <dd><code>Transformaciones sobre un RDD</code></dd>\n",
       "            </dl>\n",
       "        </div>\n",
       "        "
      ],
      "text/plain": [
       "<SparkContext master=local appName=Transformaciones sobre un RDD>"
      ]
     },
     "execution_count": 2,
     "metadata": {},
     "output_type": "execute_result"
    }
   ],
   "source": [
    "sc"
   ]
  },
  {
   "cell_type": "code",
   "execution_count": 114,
   "metadata": {},
   "outputs": [],
   "source": [
    "# sc.stop()"
   ]
  },
  {
   "cell_type": "markdown",
   "metadata": {},
   "source": [
    "# Cargamos un RDDs\n",
    "\n",
    "Para la realzación del ejercicio, con ayuda del archivo paises, realizaremos el equivalente de operaciones 'select','count','group by' y 'filter / where'\n",
    "\n",
    "Cambia el valor de la ruta para que apunte a la ruta donde tienes los datos"
   ]
  },
  {
   "cell_type": "code",
   "execution_count": 3,
   "metadata": {},
   "outputs": [],
   "source": [
    "path = \"files/\"\n",
    "equiposOlimpicosRDD = sc.textFile(path+\"paises.csv\")\\\n",
    "                        .map(lambda line : line.split(\",\"))"
   ]
  },
  {
   "cell_type": "code",
   "execution_count": 4,
   "metadata": {},
   "outputs": [
    {
     "data": {
      "text/plain": [
       "[['id', 'equipo', 'sigla'],\n",
       " ['1', '30. Februar', 'AUT'],\n",
       " ['2', 'A North American Team', 'MEX'],\n",
       " ['3', 'Acipactli', 'MEX'],\n",
       " ['4', 'Acturus', 'ARG'],\n",
       " ['5', 'Afghanistan', 'AFG'],\n",
       " ['6', 'Akatonbo', 'IRL'],\n",
       " ['7', 'Alain IV', 'SUI'],\n",
       " ['8', 'Albania', 'ALB'],\n",
       " ['9', 'Alcaid', 'POR']]"
      ]
     },
     "execution_count": 4,
     "metadata": {},
     "output_type": "execute_result"
    }
   ],
   "source": [
    "equiposOlimpicosRDD.take(10)"
   ]
  },
  {
   "cell_type": "markdown",
   "metadata": {},
   "source": [
    "### Determinamos la cantidad de siglas para los equipos olímpicos existentes\n",
    "\n",
    "Con ayuda del método 'take', podrás identificar que en la ultima posisión tenemos las siguas para cada pais/equipo. \n",
    "\n",
    "Con esto obtenremos la cantidad precisa de equipos jugadores en los olimpicos"
   ]
  },
  {
   "cell_type": "code",
   "execution_count": 24,
   "metadata": {},
   "outputs": [
    {
     "data": {
      "text/plain": [
       "231"
      ]
     },
     "execution_count": 24,
     "metadata": {},
     "output_type": "execute_result"
    }
   ],
   "source": [
    "equiposOlimpicosRDD.map(lambda x : (x[2])).distinct().count()"
   ]
  },
  {
   "cell_type": "markdown",
   "metadata": {},
   "source": [
    "### Agrupamos datos para poder determinar cuantos equipos posee un pais\n",
    "\n",
    "Recuerda que los RDDs poseen una estructura de llave-valor, por lo cual debemos poner primero el valor 'llave'.\n",
    "\n",
    "Con 'mapValues', al componente 'valor' le indicamos que operación deseamos que se le aplique."
   ]
  },
  {
   "cell_type": "code",
   "execution_count": 31,
   "metadata": {},
   "outputs": [
    {
     "data": {
      "text/plain": [
       "[('sigla', ['equipo']),\n",
       " ('AUT',\n",
       "  ['30. Februar',\n",
       "   'Austria',\n",
       "   'Austria-1',\n",
       "   'Austria-2',\n",
       "   'Breslau',\n",
       "   'Brigantia',\n",
       "   'Donar III',\n",
       "   'Evita VI',\n",
       "   'May-Be 1960',\n",
       "   '\"R.-V. Germania; Leitmeritz\"',\n",
       "   'Surprise'])]"
      ]
     },
     "execution_count": 31,
     "metadata": {},
     "output_type": "execute_result"
    }
   ],
   "source": [
    "equiposOlimpicosRDD.map(lambda x : (x[2], x[1] ))\\\n",
    "                    .groupByKey() \\\n",
    "                    .mapValues(list).take(2)"
   ]
  },
  {
   "cell_type": "code",
   "execution_count": 32,
   "metadata": {},
   "outputs": [
    {
     "data": {
      "text/plain": [
       "[('sigla', 1), ('AUT', 11), ('MEX', 9), ('ARG', 18), ('AFG', 1)]"
      ]
     },
     "execution_count": 32,
     "metadata": {},
     "output_type": "execute_result"
    }
   ],
   "source": [
    "equiposOlimpicosRDD.map(lambda x :  (x[2], x[1] ))\\\n",
    "                    .groupByKey()\\\n",
    "                    .mapValues(len)\\\n",
    "                    .take(5)"
   ]
  },
  {
   "cell_type": "markdown",
   "metadata": {},
   "source": [
    "### Operación filter para obtener un subconjunto\n",
    "\n",
    "Con el método 'filter', reducimos el conjuntos de equipos.\n",
    "\n",
    "Nos quedamos con la sigla equivalente de argentina"
   ]
  },
  {
   "cell_type": "code",
   "execution_count": 35,
   "metadata": {},
   "outputs": [
    {
     "data": {
      "text/plain": [
       "[['4', 'Acturus', 'ARG'],\n",
       " ['37', 'Antares', 'ARG'],\n",
       " ['42', 'Arcturus', 'ARG'],\n",
       " ['43', 'Ardilla', 'ARG'],\n",
       " ['45', 'Argentina', 'ARG'],\n",
       " ['46', 'Argentina-1', 'ARG'],\n",
       " ['47', 'Argentina-2', 'ARG'],\n",
       " ['119', 'Blue Red', 'ARG'],\n",
       " ['238', 'Covunco III', 'ARG'],\n",
       " ['252', 'Cupidon III', 'ARG'],\n",
       " ['288', 'Djinn', 'ARG'],\n",
       " ['436', 'Gullvinge', 'ARG'],\n",
       " ['644', 'Matrero II', 'ARG'],\n",
       " ['672', 'Mizar', 'ARG'],\n",
       " ['774', 'Pampero', 'ARG'],\n",
       " ['843', 'Rampage', 'ARG'],\n",
       " ['1031', 'Tango', 'ARG'],\n",
       " ['1162', 'Wiking', 'ARG']]"
      ]
     },
     "execution_count": 35,
     "metadata": {},
     "output_type": "execute_result"
    }
   ],
   "source": [
    "equiposArgentinos = equiposOlimpicosRDD.filter(lambda l : \"ARG\" in l)\n",
    "equiposArgentinos.collect()  "
   ]
  },
  {
   "cell_type": "code",
   "execution_count": 39,
   "metadata": {},
   "outputs": [
    {
     "data": {
      "text/plain": [
       "1185"
      ]
     },
     "execution_count": 39,
     "metadata": {},
     "output_type": "execute_result"
    }
   ],
   "source": [
    "equiposOlimpicosRDD.countApprox(20)"
   ]
  },
  {
   "cell_type": "markdown",
   "metadata": {},
   "source": [
    "# Accciones sobre RDDs"
   ]
  },
  {
   "cell_type": "code",
   "execution_count": 5,
   "metadata": {},
   "outputs": [],
   "source": [
    "deportistaOlimpicoRDD = sc.textFile(path+\"deportista.csv\").map(lambda line : line.split(\",\"))\n",
    "deportistaOlimpico2RDD = sc.textFile(path+\"deportista2.csv\").map(lambda line : line.split(\",\"))"
   ]
  },
  {
   "cell_type": "code",
   "execution_count": 6,
   "metadata": {},
   "outputs": [],
   "source": [
    "deportistaOlimpicoRDD = deportistaOlimpicoRDD.union(deportistaOlimpico2RDD)"
   ]
  },
  {
   "cell_type": "code",
   "execution_count": 53,
   "metadata": {},
   "outputs": [
    {
     "data": {
      "text/plain": [
       "135572"
      ]
     },
     "execution_count": 53,
     "metadata": {},
     "output_type": "execute_result"
    }
   ],
   "source": [
    "deportistaOlimpicoRDD.count()"
   ]
  },
  {
   "cell_type": "markdown",
   "metadata": {},
   "source": [
    "### Formas de visualizar datos de un RDDs\n",
    "\n",
    "La operación 'take' nos devuelve 'N' valores que encuentre spark.\n",
    "\n",
    "La operación 'top', previo ordena respecto al valor llave y nos devuelve 'N' valores.\n",
    "\n",
    "La operacion 'takeSample', nos devuelve una muestra aleatoria de los valores, Observa que recibe tres parametros\n",
    "\n",
    "| Orden | Argumento | Descripción | Valor\n",
    "|-------|--------|-----|--------|\n",
    "|1|withReplacement|Indica si la muetra podrá traer replicados|Bool|\n",
    "|2| num| Cantidad de valores a retornar|int|\n",
    "|3|sed|semilla para el generador aleatorio|int|"
   ]
  },
  {
   "cell_type": "markdown",
   "metadata": {},
   "source": [
    "Nota: Si encuentras complicado leer el código en los segmentos donde usamos indices en las listas, ejecutalo por partes para que visualizes que componentes seleccionamos \n",
    "\n",
    "Nota: Para hacer join con RDDs, debemos tener selecionada la llave al inicio del RDD para poder realizar el cruce."
   ]
  },
  {
   "cell_type": "code",
   "execution_count": 7,
   "metadata": {},
   "outputs": [
    {
     "data": {
      "text/plain": [
       "[['id', 'equipo', 'sigla'],\n",
       " ['999', 'Stella-2', 'NOR'],\n",
       " ['998', 'State VI', 'CAN'],\n",
       " ['997', 'Starlight III', 'GBR'],\n",
       " ['996', 'Starita', 'NED']]"
      ]
     },
     "execution_count": 7,
     "metadata": {},
     "output_type": "execute_result"
    }
   ],
   "source": [
    "equiposOlimpicosRDD.top(5)"
   ]
  },
  {
   "cell_type": "code",
   "execution_count": 8,
   "metadata": {},
   "outputs": [
    {
     "data": {
      "text/plain": [
       "[['deportista_id', 'nombre', 'genero', 'edad', 'altura', 'peso', 'equipo_id'],\n",
       " ['99999', 'Alexander Grant Alick Rennie', '1', '32', '182', '71', '967'],\n",
       " ['99998', 'Robert John Bob Renney', '1', '21', '178', '90', '66'],\n",
       " ['99997', 'Thomas Renner', '1', '24', '183', '86', '71'],\n",
       " ['99996', 'Sara Renner', '2', '21', '168', '63', '174']]"
      ]
     },
     "execution_count": 8,
     "metadata": {},
     "output_type": "execute_result"
    }
   ],
   "source": [
    "deportistaOlimpicoRDD.top(5)"
   ]
  },
  {
   "cell_type": "code",
   "execution_count": 9,
   "metadata": {},
   "outputs": [
    {
     "data": {
      "text/plain": [
       "[('199', (['1', 'A Dijiang', '1', '24', '180', '80'], 'CHN')),\n",
       " ('199', (['2', 'A Lamusi', '1', '23', '170', '60'], 'CHN')),\n",
       " ('199', (['602', 'Abudoureheman', '1', '22', '182', '75'], 'CHN')),\n",
       " ('199', (['1463', 'Ai Linuer', '1', '25', '160', '62'], 'CHN')),\n",
       " ('199', (['1464', 'Ai Yanhan', '2', '14', '168', '54'], 'CHN')),\n",
       " ('199', (['3605', 'An Weijiang', '1', '22', '178', '72'], 'CHN'))]"
      ]
     },
     "execution_count": 9,
     "metadata": {},
     "output_type": "execute_result"
    }
   ],
   "source": [
    "deportistaOlimpicoRDD.map(lambda x :[x[-1], x[:-1]])\\\n",
    "            .join(equiposOlimpicosRDD.map(lambda x : [x[0],x[2]]))\\\n",
    "                        .take(6)"
   ]
  },
  {
   "cell_type": "code",
   "execution_count": 69,
   "metadata": {},
   "outputs": [
    {
     "data": {
      "text/plain": [
       "[('999', (['92679', 'Trygve Bjarne Pedersen', '1', '35', '0', '0'], 'NOR')),\n",
       " ('999', (['1144', 'Henrik Agersborg', '1', '47', '0', '0'], 'NOR')),\n",
       " ('999', (['10765', 'Einar Berntsen', '1', '28', '0', '0'], 'NOR')),\n",
       " ('998',\n",
       "  (['111659', 'G. Bernard Bernie Skinner', '1', '34', '182', '82'], 'CAN')),\n",
       " ('996', (['116030', 'Edward Eddy Stutterheim', '1', '39', '0', '0'], 'NED'))]"
      ]
     },
     "execution_count": 69,
     "metadata": {},
     "output_type": "execute_result"
    }
   ],
   "source": [
    "deportistaOlimpicoRDD.map(lambda x :[x[-1], x[:-1]]) \\\n",
    "        .join(equiposOlimpicosRDD.map(lambda x : [x[0],x[2]])).top(5)"
   ]
  },
  {
   "cell_type": "code",
   "execution_count": 72,
   "metadata": {},
   "outputs": [
    {
     "data": {
      "text/plain": [
       "[('362', (['131505', 'Steven Woodburn', '1', '24', '185', '90'], 'FRA')),\n",
       " ('967', (['13626', 'Jill Brresen', '2', '22', '170', '57'], 'RSA')),\n",
       " ('482', (['44299', 'Gumundur Gumundsson', '1', '23', '174', '77'], 'ISL')),\n",
       " ('970', (['68062', 'Lee MinHui', '2', '28', '174', '65'], 'KOR')),\n",
       " ('794', (['92442', 'Luis Paz Zoldan', '1', '19', '187', '82'], 'PER')),\n",
       " ('413', (['26822', 'Jared Mark Deacon', '1', '24', '185', '77'], 'GBR'))]"
      ]
     },
     "execution_count": 72,
     "metadata": {},
     "output_type": "execute_result"
    }
   ],
   "source": [
    "deportistaOlimpicoRDD.map(lambda x :[x[-1], x[:-1]])\\\n",
    "                        .join(equiposOlimpicosRDD.map(lambda x : [x[0],x[2]]))\\\n",
    "                        .takeSample(False,6,25)"
   ]
  },
  {
   "cell_type": "markdown",
   "metadata": {},
   "source": [
    "## Importancia de countAprox"
   ]
  },
  {
   "cell_type": "markdown",
   "metadata": {},
   "source": [
    "Debido a la cantidad de datos no siempre es recomendable hacer operaciones tipo count.\n",
    "\n",
    "Por lo que 'countAprox' es la solución mas viable cuando solo queremos darnos una idea de cuantos datos podemos leer durante un tiempo determinado. Nota: el parametro está en milisegundos"
   ]
  },
  {
   "cell_type": "code",
   "execution_count": 10,
   "metadata": {},
   "outputs": [
    {
     "data": {
      "text/plain": [
       "135427"
      ]
     },
     "execution_count": 10,
     "metadata": {},
     "output_type": "execute_result"
    }
   ],
   "source": [
    "deportistaOlimpicoRDD.map(lambda x :[x[-1], x[:-1]]).join(equiposOlimpicosRDD \\\n",
    "                            .map(lambda x : [x[0],x[2]])).count()"
   ]
  },
  {
   "cell_type": "code",
   "execution_count": 74,
   "metadata": {},
   "outputs": [
    {
     "data": {
      "text/plain": [
       "135427"
      ]
     },
     "execution_count": 74,
     "metadata": {},
     "output_type": "execute_result"
    }
   ],
   "source": [
    "deportistaOlimpicoRDD.map(lambda x :[x[-1], x[:-1]]).join(equiposOlimpicosRDD \\\n",
    "                        .map(lambda x : [x[0],x[2]])).countApprox(20)"
   ]
  },
  {
   "cell_type": "code",
   "execution_count": null,
   "metadata": {},
   "outputs": [],
   "source": []
  },
  {
   "cell_type": "markdown",
   "metadata": {},
   "source": [
    "# Acciones de modificacion"
   ]
  },
  {
   "cell_type": "markdown",
   "metadata": {},
   "source": [
    "### Obtenemos el equipo y el deportista\n",
    "\n",
    "Guardamos el RDD resultante en equipoDeportista"
   ]
  },
  {
   "cell_type": "code",
   "execution_count": 11,
   "metadata": {},
   "outputs": [],
   "source": [
    "equipoDeportista = deportistaOlimpicoRDD.map(lambda x :[x[-1], x[:-1]]).join(equiposOlimpicosRDD \\\n",
    "                                            .map(lambda x : [x[0],x[2]]))"
   ]
  },
  {
   "cell_type": "code",
   "execution_count": 93,
   "metadata": {},
   "outputs": [
    {
     "data": {
      "text/plain": [
       "[('999', (['92679', 'Trygve Bjarne Pedersen', '1', '35', '0', '0'], 'NOR'))]"
      ]
     },
     "execution_count": 93,
     "metadata": {},
     "output_type": "execute_result"
    }
   ],
   "source": [
    "equipoDeportista.top(1)\n"
   ]
  },
  {
   "cell_type": "code",
   "execution_count": 79,
   "metadata": {},
   "outputs": [
    {
     "data": {
      "text/plain": [
       "[('99999', ['Alexander Grant Alick Rennie', '1', '32', '182', '71'], 'RSA'),\n",
       " ('99998', ['Robert John Bob Renney', '1', '21', '178', '90'], 'AUS'),\n",
       " ('99997', ['Thomas Renner', '1', '24', '183', '86'], 'AUT'),\n",
       " ('99996', ['Sara Renner', '2', '21', '168', '63'], 'CAN'),\n",
       " ('99995', ['Robert Renner', '1', '22', '182', '75'], 'SLO')]"
      ]
     },
     "execution_count": 79,
     "metadata": {},
     "output_type": "execute_result"
    }
   ],
   "source": [
    "equipoDeportista.map(lambda x : (x[1][0][0],x[1][0][1:],x[1][1]) ).top(5)"
   ]
  },
  {
   "cell_type": "markdown",
   "metadata": {},
   "source": [
    "### Carga de resultados\n",
    "\n",
    "Esta tabla posee las medallas que los jugadores han ganado"
   ]
  },
  {
   "cell_type": "code",
   "execution_count": 12,
   "metadata": {},
   "outputs": [],
   "source": [
    "resultado = sc.textFile(path+\"resultados.csv\").map(lambda line : line.split(\",\"))"
   ]
  },
  {
   "cell_type": "code",
   "execution_count": 13,
   "metadata": {},
   "outputs": [
    {
     "data": {
      "text/plain": [
       "[['resultado_id', 'medalla', 'deportista_id', 'juego_id', 'evento_id'],\n",
       " ['1', 'NA', '1', '39', '1'],\n",
       " ['2', 'NA', '2', '49', '2'],\n",
       " ['3', 'NA', '3', '7', '3'],\n",
       " ['4', 'Gold', '4', '2', '4']]"
      ]
     },
     "execution_count": 13,
     "metadata": {},
     "output_type": "execute_result"
    }
   ],
   "source": [
    "resultado.take(5)"
   ]
  },
  {
   "cell_type": "markdown",
   "metadata": {},
   "source": [
    "Eliminamos todas las medallas no ganadoras y nos quedamos con el valor de la medalla y  del deportista_id"
   ]
  },
  {
   "cell_type": "code",
   "execution_count": 14,
   "metadata": {},
   "outputs": [],
   "source": [
    "resultadoGanador = resultado.filter(lambda l : 'NA' not in l[1])\n",
    "resultadoGanador = resultadoGanador.map(lambda l : [l[2],l[1]])"
   ]
  },
  {
   "cell_type": "code",
   "execution_count": 15,
   "metadata": {},
   "outputs": [
    {
     "data": {
      "text/plain": [
       "[['deportista_id', 'medalla'],\n",
       " ['4', 'Gold'],\n",
       " ['15', 'Bronze'],\n",
       " ['15', 'Bronze'],\n",
       " ['16', 'Bronze'],\n",
       " ['17', 'Bronze'],\n",
       " ['17', 'Gold'],\n",
       " ['17', 'Gold'],\n",
       " ['17', 'Gold'],\n",
       " ['17', 'Bronze'],\n",
       " ['20', 'Gold'],\n",
       " ['20', 'Bronze'],\n",
       " ['20', 'Silver'],\n",
       " ['20', 'Bronze'],\n",
       " ['20', 'Silver']]"
      ]
     },
     "execution_count": 15,
     "metadata": {},
     "output_type": "execute_result"
    }
   ],
   "source": [
    "resultadoGanador.take(15)"
   ]
  },
  {
   "cell_type": "code",
   "execution_count": 50,
   "metadata": {},
   "outputs": [
    {
     "data": {
      "text/plain": [
       "39784"
      ]
     },
     "execution_count": 50,
     "metadata": {},
     "output_type": "execute_result"
    }
   ],
   "source": [
    "resultadoGanador.count()"
   ]
  },
  {
   "cell_type": "markdown",
   "metadata": {},
   "source": [
    "### Obtenemos la relación buscada: deportista,pais y medalla."
   ]
  },
  {
   "cell_type": "code",
   "execution_count": 16,
   "metadata": {},
   "outputs": [
    {
     "data": {
      "text/plain": [
       "[['deportista_id', 'nombre', 'genero', 'edad', 'altura', 'peso', 'equipo_id'],\n",
       " ['99999', 'Alexander Grant Alick Rennie', '1', '32', '182', '71', '967'],\n",
       " ['99998', 'Robert John Bob Renney', '1', '21', '178', '90', '66'],\n",
       " ['99997', 'Thomas Renner', '1', '24', '183', '86', '71'],\n",
       " ['99996', 'Sara Renner', '2', '21', '168', '63', '174']]"
      ]
     },
     "execution_count": 16,
     "metadata": {},
     "output_type": "execute_result"
    }
   ],
   "source": [
    "deportistaOlimpicoRDD.top(5)"
   ]
  },
  {
   "cell_type": "code",
   "execution_count": 17,
   "metadata": {},
   "outputs": [
    {
     "data": {
      "text/plain": [
       "[('45', (['716', 'Lautaro Germn Acosta', '1', '20', '168', '72'], 'ARG'))]"
      ]
     },
     "execution_count": 17,
     "metadata": {},
     "output_type": "execute_result"
    }
   ],
   "source": [
    "equipoDeportista.filter(lambda x: '716' in x[1][0]).take(2)"
   ]
  },
  {
   "cell_type": "code",
   "execution_count": 18,
   "metadata": {},
   "outputs": [],
   "source": [
    "equipoDeportista_c = equipoDeportista.map(lambda x: (x[1][0][0],(x[0],x[1][0][1:],x[1][1])))"
   ]
  },
  {
   "cell_type": "code",
   "execution_count": 113,
   "metadata": {},
   "outputs": [
    {
     "data": {
      "text/plain": [
       "[['17282', 'Bronze']]"
      ]
     },
     "execution_count": 113,
     "metadata": {},
     "output_type": "execute_result"
    }
   ],
   "source": [
    "resultadoGanador.filter(lambda x: x[0]=='17282').take(2)"
   ]
  },
  {
   "cell_type": "code",
   "execution_count": 94,
   "metadata": {},
   "outputs": [
    {
     "data": {
      "text/plain": [
       "[('999', (['92679', 'Trygve Bjarne Pedersen', '1', '35', '0', '0'], 'NOR')),\n",
       " ('999', (['1144', 'Henrik Agersborg', '1', '47', '0', '0'], 'NOR')),\n",
       " ('999', (['10765', 'Einar Berntsen', '1', '28', '0', '0'], 'NOR')),\n",
       " ('998',\n",
       "  (['111659', 'G. Bernard Bernie Skinner', '1', '34', '182', '82'], 'CAN'))]"
      ]
     },
     "execution_count": 94,
     "metadata": {},
     "output_type": "execute_result"
    }
   ],
   "source": [
    "equipoDeportista.top(4)"
   ]
  },
  {
   "cell_type": "code",
   "execution_count": 19,
   "metadata": {},
   "outputs": [
    {
     "data": {
      "text/plain": [
       "[('1', ('199', ['A Dijiang', '1', '24', '180', '80'], 'CHN'))]"
      ]
     },
     "execution_count": 19,
     "metadata": {},
     "output_type": "execute_result"
    }
   ],
   "source": [
    "equipoDeportista_c.take(1)"
   ]
  },
  {
   "cell_type": "code",
   "execution_count": 25,
   "metadata": {},
   "outputs": [],
   "source": [
    "jugadoresMedalla_c =  equipoDeportista_c.join(resultadoGanador)\n",
    "test_list = jugadoresMedalla_c.take(2)"
   ]
  },
  {
   "cell_type": "code",
   "execution_count": 22,
   "metadata": {},
   "outputs": [
    {
     "data": {
      "text/plain": [
       "[('716',\n",
       "  ((['553', 'John Charles Abrams', '1', '22', '183', '0'], 'NZL'), 'Gold')),\n",
       " ('716',\n",
       "  ((['698', 'Paul Douglas Ackerley', '1', '27', '179', '68'], 'NZL'), 'Gold'))]"
      ]
     },
     "execution_count": 22,
     "metadata": {},
     "output_type": "execute_result"
    }
   ],
   "source": [
    "jugadoresMedalla =  equipoDeportista.join(resultadoGanador)\n",
    "jugadoresMedalla.take(2)"
   ]
  },
  {
   "cell_type": "code",
   "execution_count": 51,
   "metadata": {},
   "outputs": [
    {
     "data": {
      "text/plain": [
       "45100"
      ]
     },
     "execution_count": 51,
     "metadata": {},
     "output_type": "execute_result"
    }
   ],
   "source": [
    "jugadoresMedalla.count()"
   ]
  },
  {
   "cell_type": "code",
   "execution_count": 36,
   "metadata": {},
   "outputs": [
    {
     "data": {
      "text/plain": [
       "'CHN'"
      ]
     },
     "execution_count": 36,
     "metadata": {},
     "output_type": "execute_result"
    }
   ],
   "source": [
    "test_list[0][1][0][-1]"
   ]
  },
  {
   "cell_type": "code",
   "execution_count": 42,
   "metadata": {},
   "outputs": [
    {
     "data": {
      "text/plain": [
       "39783"
      ]
     },
     "execution_count": 42,
     "metadata": {},
     "output_type": "execute_result"
    }
   ],
   "source": [
    "jugadoresMedalla_c.count()"
   ]
  },
  {
   "cell_type": "markdown",
   "metadata": {},
   "source": [
    "### Agrupamos las medallas respecto a la sigla del pais jugador"
   ]
  },
  {
   "cell_type": "code",
   "execution_count": 40,
   "metadata": {},
   "outputs": [
    {
     "data": {
      "text/plain": [
       "[('ITA', 7),\n",
       " ('GER', 5),\n",
       " ('HUN', 5),\n",
       " ('GBR', 4),\n",
       " ('URS', 5),\n",
       " ('AUS', 5),\n",
       " ('ARG', 5),\n",
       " ('URS', 5),\n",
       " ('FRA', 4),\n",
       " ('RUS', 5)]"
      ]
     },
     "execution_count": 40,
     "metadata": {},
     "output_type": "execute_result"
    }
   ],
   "source": [
    "d = {'Gold':7, 'Silver':5, 'Bronze':4}\n",
    "paisesMedallas = jugadoresMedalla_c.map(lambda x : (x[1][0][-1],d[x[1][1]]) )\n",
    "paisesMedallas.takeSample(False,10)"
   ]
  },
  {
   "cell_type": "code",
   "execution_count": 41,
   "metadata": {},
   "outputs": [
    {
     "data": {
      "text/plain": [
       "39783"
      ]
     },
     "execution_count": 41,
     "metadata": {},
     "output_type": "execute_result"
    }
   ],
   "source": [
    "paisesMedallas.count()"
   ]
  },
  {
   "cell_type": "code",
   "execution_count": 43,
   "metadata": {},
   "outputs": [],
   "source": [
    "from operator import add"
   ]
  },
  {
   "cell_type": "code",
   "execution_count": null,
   "metadata": {},
   "outputs": [],
   "source": [
    "paisesMedallas"
   ]
  },
  {
   "cell_type": "markdown",
   "metadata": {},
   "source": [
    "### Obtenemos los valores de los puntuajes históricos de los paises jugadores"
   ]
  },
  {
   "cell_type": "code",
   "execution_count": 45,
   "metadata": {},
   "outputs": [
    {
     "data": {
      "text/plain": [
       "[('USA', 32137),\n",
       " ('URS', 14834),\n",
       " ('GBR', 10925),\n",
       " ('GER', 10896),\n",
       " ('FRA', 9265),\n",
       " ('ITA', 8755),\n",
       " ('SWE', 8110),\n",
       " ('CAN', 7209),\n",
       " ('AUS', 6755),\n",
       " ('HUN', 6142)]"
      ]
     },
     "execution_count": 45,
     "metadata": {},
     "output_type": "execute_result"
    }
   ],
   "source": [
    "from operator import add\n",
    "conclusion = paisesMedallas.reduceByKey((add))\\\n",
    "            .sortBy(lambda x : x[1],ascending=False)\n",
    "conclusion.take(10)"
   ]
  },
  {
   "cell_type": "markdown",
   "metadata": {},
   "source": [
    "# Estadística básica sobre los RDDs"
   ]
  },
  {
   "cell_type": "markdown",
   "metadata": {},
   "source": [
    "Spark posee una suite integrada de forma natural para poder obtener estadísticas básicas."
   ]
  },
  {
   "cell_type": "code",
   "execution_count": 46,
   "metadata": {},
   "outputs": [
    {
     "data": {
      "text/plain": [
       "(count: 150, mean: 1415.7599999999995, stdev: 3532.7790301309997, max: 32137.0, min: 4.0)"
      ]
     },
     "execution_count": 46,
     "metadata": {},
     "output_type": "execute_result"
    }
   ],
   "source": [
    "conclusion.map(lambda l : l[1]).stats()"
   ]
  },
  {
   "cell_type": "code",
   "execution_count": 47,
   "metadata": {},
   "outputs": [
    {
     "data": {
      "text/plain": [
       "1415.7599999999995"
      ]
     },
     "execution_count": 47,
     "metadata": {},
     "output_type": "execute_result"
    }
   ],
   "source": [
    "conclusion.map(lambda l : l [1]).mean()"
   ]
  },
  {
   "cell_type": "code",
   "execution_count": 48,
   "metadata": {},
   "outputs": [
    {
     "data": {
      "text/plain": [
       "212364"
      ]
     },
     "execution_count": 48,
     "metadata": {},
     "output_type": "execute_result"
    }
   ],
   "source": [
    "conclusion.map(lambda l : l [1]).sum()"
   ]
  },
  {
   "cell_type": "code",
   "execution_count": 49,
   "metadata": {},
   "outputs": [
    {
     "data": {
      "text/plain": [
       "([4.0,\n",
       "  3217.3,\n",
       "  6430.6,\n",
       "  9643.900000000001,\n",
       "  12857.2,\n",
       "  16070.5,\n",
       "  19283.800000000003,\n",
       "  22497.100000000002,\n",
       "  25710.4,\n",
       "  28923.7,\n",
       "  32137],\n",
       " [130, 11, 5, 2, 1, 0, 0, 0, 0, 1])"
      ]
     },
     "execution_count": 49,
     "metadata": {},
     "output_type": "execute_result"
    }
   ],
   "source": [
    "conclusion.map(lambda l : l [1]).histogram(10)"
   ]
  },
  {
   "cell_type": "code",
   "execution_count": 52,
   "metadata": {},
   "outputs": [],
   "source": [
    "sc.stop()"
   ]
  }
 ],
 "metadata": {
  "kernelspec": {
   "display_name": "Python 3",
   "language": "python",
   "name": "python3"
  },
  "language_info": {
   "codemirror_mode": {
    "name": "ipython",
    "version": 3
   },
   "file_extension": ".py",
   "mimetype": "text/x-python",
   "name": "python",
   "nbconvert_exporter": "python",
   "pygments_lexer": "ipython3",
   "version": "3.7.9"
  }
 },
 "nbformat": 4,
 "nbformat_minor": 4
}
